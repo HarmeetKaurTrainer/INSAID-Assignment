{
 "cells": [
  {
   "cell_type": "code",
   "execution_count": 2,
   "metadata": {},
   "outputs": [
    {
     "name": "stdout",
     "output_type": "stream",
     "text": [
      "[92 76]\n",
      "[[5.8 2.6]\n",
      " [6.8 2.8]]\n"
     ]
    },
    {
     "ename": "NameError",
     "evalue": "name 'xrange' is not defined",
     "output_type": "error",
     "traceback": [
      "\u001b[0;31m---------------------------------------------------------------------------\u001b[0m",
      "\u001b[0;31mNameError\u001b[0m                                 Traceback (most recent call last)",
      "\u001b[0;32m<ipython-input-2-4b88c3d30403>\u001b[0m in \u001b[0;36m<module>\u001b[0;34m\u001b[0m\n\u001b[1;32m     62\u001b[0m     \u001b[0;31m#data = pca.fit_transform(data)\u001b[0m\u001b[0;34m\u001b[0m\u001b[0;34m\u001b[0m\u001b[0;34m\u001b[0m\u001b[0m\n\u001b[1;32m     63\u001b[0m     \u001b[0mkm\u001b[0m \u001b[0;34m=\u001b[0m \u001b[0mKMeans\u001b[0m\u001b[0;34m(\u001b[0m\u001b[0mX\u001b[0m\u001b[0;34m,\u001b[0m \u001b[0mnum_clusters\u001b[0m\u001b[0;34m=\u001b[0m\u001b[0;36m2\u001b[0m\u001b[0;34m,\u001b[0m \u001b[0mniter\u001b[0m\u001b[0;34m=\u001b[0m\u001b[0;36m100\u001b[0m\u001b[0;34m,\u001b[0m \u001b[0mdelta\u001b[0m\u001b[0;34m=\u001b[0m\u001b[0;36m0.0001\u001b[0m\u001b[0;34m)\u001b[0m\u001b[0;34m\u001b[0m\u001b[0;34m\u001b[0m\u001b[0m\n\u001b[0;32m---> 64\u001b[0;31m     \u001b[0minitial\u001b[0m\u001b[0;34m,\u001b[0m \u001b[0mxtoc\u001b[0m\u001b[0;34m,\u001b[0m \u001b[0mdistances\u001b[0m \u001b[0;34m=\u001b[0m \u001b[0mkm\u001b[0m\u001b[0;34m.\u001b[0m\u001b[0mfit\u001b[0m\u001b[0;34m(\u001b[0m\u001b[0;34m)\u001b[0m\u001b[0;34m\u001b[0m\u001b[0;34m\u001b[0m\u001b[0m\n\u001b[0m\u001b[1;32m     65\u001b[0m     \u001b[0mprint\u001b[0m \u001b[0;34m(\u001b[0m\u001b[0minitial\u001b[0m\u001b[0;34m)\u001b[0m\u001b[0;34m\u001b[0m\u001b[0;34m\u001b[0m\u001b[0m\n\u001b[1;32m     66\u001b[0m     \u001b[0mprint\u001b[0m \u001b[0;34m(\u001b[0m\u001b[0mxtoc\u001b[0m\u001b[0;34m)\u001b[0m\u001b[0;34m\u001b[0m\u001b[0;34m\u001b[0m\u001b[0m\n",
      "\u001b[0;32m<ipython-input-2-4b88c3d30403>\u001b[0m in \u001b[0;36mfit\u001b[0;34m(self)\u001b[0m\n\u001b[1;32m     34\u001b[0m         \u001b[0mall_X\u001b[0m \u001b[0;34m=\u001b[0m \u001b[0mnp\u001b[0m\u001b[0;34m.\u001b[0m\u001b[0marange\u001b[0m\u001b[0;34m(\u001b[0m\u001b[0mN\u001b[0m\u001b[0;34m)\u001b[0m\u001b[0;34m\u001b[0m\u001b[0;34m\u001b[0m\u001b[0m\n\u001b[1;32m     35\u001b[0m         \u001b[0mold_dist\u001b[0m \u001b[0;34m=\u001b[0m \u001b[0;36m0\u001b[0m\u001b[0;34m\u001b[0m\u001b[0;34m\u001b[0m\u001b[0m\n\u001b[0;32m---> 36\u001b[0;31m         \u001b[0;32mfor\u001b[0m \u001b[0mjiter\u001b[0m \u001b[0;32min\u001b[0m \u001b[0mxrange\u001b[0m\u001b[0;34m(\u001b[0m\u001b[0;36m1\u001b[0m\u001b[0;34m,\u001b[0m \u001b[0mself\u001b[0m\u001b[0;34m.\u001b[0m\u001b[0mniter\u001b[0m \u001b[0;34m+\u001b[0m \u001b[0;36m1\u001b[0m\u001b[0;34m)\u001b[0m\u001b[0;34m:\u001b[0m\u001b[0;34m\u001b[0m\u001b[0;34m\u001b[0m\u001b[0m\n\u001b[0m\u001b[1;32m     37\u001b[0m             \u001b[0mdist\u001b[0m \u001b[0;34m=\u001b[0m \u001b[0mself\u001b[0m\u001b[0;34m.\u001b[0m\u001b[0mdistance_function\u001b[0m\u001b[0;34m(\u001b[0m\u001b[0mself\u001b[0m\u001b[0;34m.\u001b[0m\u001b[0mX\u001b[0m\u001b[0;34m,\u001b[0m \u001b[0minitial\u001b[0m\u001b[0;34m)\u001b[0m\u001b[0;34m\u001b[0m\u001b[0;34m\u001b[0m\u001b[0m\n\u001b[1;32m     38\u001b[0m             \u001b[0mxtoc\u001b[0m \u001b[0;34m=\u001b[0m \u001b[0mdist\u001b[0m\u001b[0;34m.\u001b[0m\u001b[0margmin\u001b[0m\u001b[0;34m(\u001b[0m\u001b[0maxis\u001b[0m \u001b[0;34m=\u001b[0m \u001b[0;36m1\u001b[0m\u001b[0;34m)\u001b[0m\u001b[0;34m\u001b[0m\u001b[0;34m\u001b[0m\u001b[0m\n",
      "\u001b[0;31mNameError\u001b[0m: name 'xrange' is not defined"
     ]
    }
   ],
   "source": [
    "import numpy as np\n",
    "from scipy.spatial.distance import cdist\n",
    "import pandas as pd\n",
    "\n",
    "class KMeans(object):\n",
    "    def __init__(self, X, num_clusters, niter, delta):\n",
    "        self.X = X\n",
    "        self.num_clusters = num_clusters\n",
    "        self.niter = niter\n",
    "        self.delta = delta\n",
    "\n",
    "    def random_sampling(self):\n",
    "        \"\"\"\n",
    "        Helper function for the k-Means clustering.\n",
    "        Returns given number of random samples from the data.\n",
    "        \"\"\"\n",
    "        randomIndex = np.random.randint(0, self.X.shape[0], self.num_clusters)\n",
    "        print (randomIndex)\n",
    "        return self.X[randomIndex, :]\n",
    "\n",
    "    def distance_function(self, X,Y):\n",
    "        return cdist(X, Y, 'euclidean')\n",
    "\n",
    "    def fit(self):\n",
    "        initial = self.random_sampling()\n",
    "\n",
    "        N, dim = self.X.shape\n",
    "        k, cdim = initial.shape\n",
    "        if dim != cdim:  \n",
    "            raise ValueError(\"Error! Centers must have same number of columns as the data!\")\n",
    "\n",
    "        print (initial)\n",
    "\n",
    "        all_X = np.arange(N)\n",
    "        old_dist = 0\n",
    "        for jiter in xrange(1, self.niter + 1):\n",
    "            dist = self.distance_function(self.X, initial)\n",
    "            xtoc = dist.argmin(axis = 1)\n",
    "            distances = dist[all_X, xtoc]\n",
    "            avgdist = distances.mean()\n",
    "\n",
    "            if (1-self.delta) * old_dist <= avgdist <= old_dist or jiter==self.niter:\n",
    "                break\n",
    "            old_dist = avgdist\n",
    "\n",
    "            for jc in range(k):\n",
    "                c = np.where(xtoc == jc)[0]\n",
    "                if len(c) > 0:\n",
    "                    initial[jc] = np.mean(self.X[c])\n",
    "\n",
    "        return initial, xtoc, distances \n",
    "\n",
    "if __name__ == '__main__':\n",
    "    from sklearn import datasets\n",
    "    iris = datasets.load_iris()\n",
    "    X = iris.data[:, :2]  # we only take the first two features.\n",
    "    Y = iris.target\n",
    "    #print (data)\n",
    "    #data = np.array(data)[:,1:]\n",
    "    #from sklearn.decomposition import PCA\n",
    "    #pca = PCA(n_components=2)\n",
    "    #data = pca.fit_transform(data)\n",
    "    km = KMeans(X, num_clusters=2, niter=100, delta=0.0001) \n",
    "    initial, xtoc, distances = km.fit()\n",
    "    print (initial)\n",
    "    print (xtoc)\n",
    "    import matplotlib.pyplot as plt\n",
    "    plt.scatter(X[:,0], X[:,1])\n",
    "    plt.scatter(initial[:,0], initial[:,1], color = 'r')\n",
    "    plt.show()"
   ]
  }
 ],
 "metadata": {
  "kernelspec": {
   "display_name": "Python 3",
   "language": "python",
   "name": "python3"
  },
  "language_info": {
   "codemirror_mode": {
    "name": "ipython",
    "version": 3
   },
   "file_extension": ".py",
   "mimetype": "text/x-python",
   "name": "python",
   "nbconvert_exporter": "python",
   "pygments_lexer": "ipython3",
   "version": "3.7.3"
  }
 },
 "nbformat": 4,
 "nbformat_minor": 2
}
