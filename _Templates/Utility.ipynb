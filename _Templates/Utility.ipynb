{
 "cells": [
  {
   "cell_type": "code",
   "execution_count": 1,
   "metadata": {},
   "outputs": [],
   "source": [
    "\"\"\"\n",
    "Utility to fetch mu, sigma and proba\n",
    "__author__ : Pratik Barjatiya\n",
    "\n",
    "\"\"\"\n",
    "import numpy as np\n",
    "\n",
    "VERBOSE = True\n",
    "\n",
    "class gaussian_params:\n",
    "\n",
    "    def __init__ (self, mu, sigma):\n",
    "        self.mu = np.array(mu).reshape((1,-1))\n",
    "        self.sigma = np.array(sigma)\n",
    "        if VERBOSE: \n",
    "            print (\"mu = \", self.mu)\n",
    "            print (\"sigma = \", self.sigma)\n",
    "\n",
    "    def proba(self, x):\n",
    "        t1 = (1./np.sqrt(np.linalg.det(self.sigma)))\n",
    "        t2 = np.exp(-(x - self.mu).dot(np.linalg.pinv(self.sigma)).dot((x-self.mu).T)/2.)\n",
    "        prob = t1 * t2\n",
    "        return prob.diagonal()\n",
    "\n",
    "    def _var(self, sigma):\n",
    "        delta = abs(sigma - self.sigma)\n",
    "        self.sigma = sigma\n",
    "        return np.sqrt(e.mean())/2\n",
    "\n",
    "    def _mu(self, mu):\n",
    "        delta = abs(self, mu)\n",
    "        self.mu = mu \n",
    "        return delta.mean()/2"
   ]
  },
  {
   "cell_type": "code",
   "execution_count": null,
   "metadata": {},
   "outputs": [],
   "source": []
  }
 ],
 "metadata": {
  "kernelspec": {
   "display_name": "Python 3",
   "language": "python",
   "name": "python3"
  },
  "language_info": {
   "codemirror_mode": {
    "name": "ipython",
    "version": 3
   },
   "file_extension": ".py",
   "mimetype": "text/x-python",
   "name": "python",
   "nbconvert_exporter": "python",
   "pygments_lexer": "ipython3",
   "version": "3.7.3"
  }
 },
 "nbformat": 4,
 "nbformat_minor": 2
}
