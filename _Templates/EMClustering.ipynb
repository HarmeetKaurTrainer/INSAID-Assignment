{
 "cells": [
  {
   "cell_type": "code",
   "execution_count": null,
   "metadata": {},
   "outputs": [],
   "source": [
    "import numpy as np\n",
    "\n",
    "class EMClustering(object):\n",
    "\n",
    "    def __init__(self, X, num_clusters = 2):\n",
    "        self.X = X\n",
    "        num_samples = X.shape[0]\n",
    "        num_features = X.shape[1]\n",
    "        self.num_clusters = num_clusters\n",
    "\n",
    "    def gaussian_clusters(self):\n",
    "        idx = np.random.choice(xrange(num_samples), self.num_clusters, replace = False)"
   ]
  }
 ],
 "metadata": {
  "kernelspec": {
   "display_name": "Python 3",
   "language": "python",
   "name": "python3"
  },
  "language_info": {
   "codemirror_mode": {
    "name": "ipython",
    "version": 3
   },
   "file_extension": ".py",
   "mimetype": "text/x-python",
   "name": "python",
   "nbconvert_exporter": "python",
   "pygments_lexer": "ipython3",
   "version": "3.7.3"
  }
 },
 "nbformat": 4,
 "nbformat_minor": 2
}
